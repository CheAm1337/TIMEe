{
  "nbformat": 4,
  "nbformat_minor": 0,
  "metadata": {
    "colab": {
      "provenance": []
    },
    "kernelspec": {
      "name": "python3",
      "display_name": "Python 3"
    },
    "language_info": {
      "name": "python"
    }
  },
  "cells": [
    {
      "cell_type": "code",
      "execution_count": null,
      "metadata": {
        "id": "RjNFV3_Jg-Pl"
      },
      "outputs": [],
      "source": [
        "import pandas as pd\n",
        "import numpy as np\n",
        "import matplotlib.pyplot as plt"
      ]
    },
    {
      "cell_type": "code",
      "source": [
        "aap = pd.read_csv('AAP_data.csv')\n",
        "a = aap\n",
        "aap.head()"
      ],
      "metadata": {
        "id": "aZZ4jUzBhnF7"
      },
      "execution_count": null,
      "outputs": []
    },
    {
      "cell_type": "code",
      "source": [
        "df = aap\n",
        "\n",
        "df['date'] = pd.to_datetime(df['date'])\n",
        "\n",
        "df['average'] = (df['open'] + df['high'] + df['low'] + df['close']) / 4\n",
        "\n",
        "df.drop(['open', 'high', 'low', 'close', 'volume', 'Name'], axis = 1, inplace = True)\n",
        "\n",
        "df.index = pd.to_datetime(df.index)\n",
        "\n",
        "train_size = int(len(df) * 0.8)\n",
        "train_data, test_data = df[:train_size], df[train_size:]\n",
        "\n",
        "X_train, y_train = train_data.drop('average', axis = 1).values, train_data['average'].values\n",
        "X_test, y_test = test_data.drop('average', axis = 1).values, test_data['average'].values"
      ],
      "metadata": {
        "id": "qYbjzU9eh_CW"
      },
      "execution_count": null,
      "outputs": []
    },
    {
      "cell_type": "code",
      "source": [
        "from sklearn.ensemble import RandomForestRegressor\n",
        "model = RandomForestRegressor(n_estimators=100, random_state=10)\n",
        "model.fit(X_train,y_train)"
      ],
      "metadata": {
        "id": "YjH0xlpgiDdv"
      },
      "execution_count": null,
      "outputs": []
    },
    {
      "cell_type": "code",
      "source": [
        "#предсказание\n",
        "y_pred = model.predict(df1.drop('average', axis=1).values)\n",
        "#рисуем график\n",
        "plt.plot(df1.index, df1['average'], label='Actual')\n",
        "plt.plot(df1.index, y_pred, label='Predicted')\n",
        "plt.legend()\n",
        "plt.show()\n",
        "     "
      ],
      "metadata": {
        "id": "m8r03cjGiDf3"
      },
      "execution_count": null,
      "outputs": []
    },
    {
      "cell_type": "code",
      "source": [
        "data = aap\n",
        "data['date'] = pd.to_datetime(data['date'])\n",
        "data = data.set_index('date')\n",
        "data = data.resample('D').last().ffill()\n",
        "print(data.isna().sum())\n",
        "\n",
        "#добавляем столбец со ср. ценой акций\n",
        "data['average'] = (data['open'] + data['high'] + data['low'] + data['close']) / 4\n",
        "\n",
        "#график изменений average\n",
        "plt.figure(figsize=(18,6))\n",
        "plt.plot(data.index, data['average'])\n",
        "plt.xlabel('Год')\n",
        "plt.ylabel('Средняя цена акций')\n",
        "plt.show()"
      ],
      "metadata": {
        "id": "iXsxb5J9iPXy"
      },
      "execution_count": null,
      "outputs": []
    },
    {
      "cell_type": "code",
      "source": [
        "columns_plot = [col for col in a.columns if col != ' Name']\n",
        "\n",
        "for col in columns_plot:\n",
        "  plt.figure(figsize=(18,6))\n",
        "  plt.plot(aap['date'], aap[col])\n",
        "  plt.title(col)\n",
        "  plt.xlabel('Год')\n",
        "  plt.ylabel('Средняя цена акций')\n",
        "  plt.show()    "
      ],
      "metadata": {
        "id": "RptzvpURiPba"
      },
      "execution_count": null,
      "outputs": []
    },
    {
      "cell_type": "code",
      "source": [
        "data_smothed = data.rolling(window=12).mean()\n",
        "\n",
        "plt.plot(data.index, data['average'], label = 'Original')\n",
        "plt.plot(data_smothed.index, data_smothed['average'], label = 'Smoothed')\n",
        "plt.legend()\n",
        "plt.show"
      ],
      "metadata": {
        "id": "wyjPe81kiPeh"
      },
      "execution_count": null,
      "outputs": []
    },
    {
      "cell_type": "code",
      "source": [],
      "metadata": {
        "id": "zR2OAmR1iPg0"
      },
      "execution_count": null,
      "outputs": []
    },
    {
      "cell_type": "code",
      "source": [],
      "metadata": {
        "id": "UpRp2r4ZiPja"
      },
      "execution_count": null,
      "outputs": []
    },
    {
      "cell_type": "code",
      "source": [],
      "metadata": {
        "id": "5PZR4cwSiDif"
      },
      "execution_count": null,
      "outputs": []
    },
    {
      "cell_type": "code",
      "source": [],
      "metadata": {
        "id": "-z_dInKSiDlH"
      },
      "execution_count": null,
      "outputs": []
    }
  ]
}